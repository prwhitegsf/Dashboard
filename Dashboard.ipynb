{
 "cells": [
  {
   "cell_type": "code",
   "execution_count": 1,
   "metadata": {},
   "outputs": [
    {
     "data": {
      "text/html": [
       "<pre style=\"white-space:pre;overflow-x:auto;line-height:normal;font-family:Menlo,'DejaVu Sans Mono',consolas,'Courier New',monospace\"><span style=\"color: #808000; text-decoration-color: #808000\">Forecasting Toolkit is disabled. To use the Forecasting features please install the toolkit following the instructions here: https://my.openbb.co/app/sdk/installation</span>\n",
       "\n",
       "</pre>\n"
      ],
      "text/plain": [
       "\u001b[33mForecasting Toolkit is disabled. To use the Forecasting features please install the toolkit following the instructions here: https://my.openbb.co/app/sdk/installation\u001b[0m\n",
       "\n"
      ]
     },
     "metadata": {},
     "output_type": "display_data"
    },
    {
     "data": {
      "text/html": [
       "<pre style=\"white-space:pre;overflow-x:auto;line-height:normal;font-family:Menlo,'DejaVu Sans Mono',consolas,'Courier New',monospace\"><span style=\"color: #808000; text-decoration-color: #808000\">Portfolio Optimization Toolkit is disabled. To use the Optimization features please install the toolkit following the instructions here: https://my.openbb.co/app/sdk/installation</span>\n",
       "\n",
       "</pre>\n"
      ],
      "text/plain": [
       "\u001b[33mPortfolio Optimization Toolkit is disabled. To use the Optimization features please install the toolkit following the instructions here: https://my.openbb.co/app/sdk/installation\u001b[0m\n",
       "\n"
      ]
     },
     "metadata": {},
     "output_type": "display_data"
    },
    {
     "data": {
      "text/plain": [
       "'Defined, test passed'"
      ]
     },
     "execution_count": 1,
     "metadata": {},
     "output_type": "execute_result"
    }
   ],
   "source": [
    "from openbb_terminal.sdk import openbb\n",
    "openbb.keys.fmp(key = 'qC2kANT7pLc0ls3HvWaxpwFD35RoNJHw', persist = True)"
   ]
  },
  {
   "cell_type": "code",
   "execution_count": 2,
   "metadata": {},
   "outputs": [
    {
     "data": {
      "text/html": [
       "<div>\n",
       "<style scoped>\n",
       "    .dataframe tbody tr th:only-of-type {\n",
       "        vertical-align: middle;\n",
       "    }\n",
       "\n",
       "    .dataframe tbody tr th {\n",
       "        vertical-align: top;\n",
       "    }\n",
       "\n",
       "    .dataframe thead th {\n",
       "        text-align: right;\n",
       "    }\n",
       "</style>\n",
       "<table border=\"1\" class=\"dataframe\">\n",
       "  <thead>\n",
       "    <tr style=\"text-align: right;\">\n",
       "      <th></th>\n",
       "      <th>Date</th>\n",
       "      <th>Time (ET)</th>\n",
       "      <th>Country</th>\n",
       "      <th>Event</th>\n",
       "      <th>Actual</th>\n",
       "      <th>Consensus</th>\n",
       "      <th>Previous</th>\n",
       "      <th>code</th>\n",
       "    </tr>\n",
       "  </thead>\n",
       "  <tbody>\n",
       "    <tr>\n",
       "      <th>2087</th>\n",
       "      <td>2024-09-10</td>\n",
       "      <td>07:00</td>\n",
       "      <td>United States</td>\n",
       "      <td>OPEC Monthly Report</td>\n",
       "      <td>-</td>\n",
       "      <td></td>\n",
       "      <td>-</td>\n",
       "      <td>2002</td>\n",
       "    </tr>\n",
       "    <tr>\n",
       "      <th>2088</th>\n",
       "      <td>2024-09-10</td>\n",
       "      <td>12:00</td>\n",
       "      <td>United States</td>\n",
       "      <td>EIA Short-Term Energy Outlook</td>\n",
       "      <td>-</td>\n",
       "      <td></td>\n",
       "      <td>-</td>\n",
       "      <td>2000</td>\n",
       "    </tr>\n",
       "  </tbody>\n",
       "</table>\n",
       "</div>"
      ],
      "text/plain": [
       "            Date Time (ET)        Country                          Event  \\\n",
       "2087  2024-09-10     07:00  United States            OPEC Monthly Report   \n",
       "2088  2024-09-10     12:00  United States  EIA Short-Term Energy Outlook   \n",
       "\n",
       "     Actual Consensus Previous  code  \n",
       "2087      -                  -  2002  \n",
       "2088      -                  -  2000  "
      ]
     },
     "execution_count": 2,
     "metadata": {},
     "output_type": "execute_result"
    }
   ],
   "source": [
    "import modules.economic_calendar as econ_cal\n",
    "ec = econ_cal.EconomicCalendar()\n",
    "\n",
    "# TO DO: Put these into a single function\n",
    "ec.get_upcoming_full_econ_cal(10)\n",
    "ec.get_recent_full_econ_cal(30)\n",
    "ec.concat_full_ecal()\n",
    "ec.filter_full_ecal()\n",
    "ec.update_filtered_ecal() \n"
   ]
  },
  {
   "cell_type": "code",
   "execution_count": 3,
   "metadata": {},
   "outputs": [
    {
     "data": {
      "text/html": [
       "<pre style=\"white-space:pre;overflow-x:auto;line-height:normal;font-family:Menlo,'DejaVu Sans Mono',consolas,'Courier New',monospace\">Loading Daily data for ^VIX with starting period 2019-01-02.\n",
       "</pre>\n"
      ],
      "text/plain": [
       "Loading Daily data for ^VIX with starting period 2019-01-02.\n"
      ]
     },
     "metadata": {},
     "output_type": "display_data"
    },
    {
     "data": {
      "text/html": [
       "<pre style=\"white-space:pre;overflow-x:auto;line-height:normal;font-family:Menlo,'DejaVu Sans Mono',consolas,'Courier New',monospace\">Loading Daily data for ^MOVE with starting period 2019-01-02.\n",
       "</pre>\n"
      ],
      "text/plain": [
       "Loading Daily data for ^MOVE with starting period 2019-01-02.\n"
      ]
     },
     "metadata": {},
     "output_type": "display_data"
    },
    {
     "data": {
      "text/html": [
       "<pre style=\"white-space:pre;overflow-x:auto;line-height:normal;font-family:Menlo,'DejaVu Sans Mono',consolas,'Courier New',monospace\">Loading Daily data for ^SKEW with starting period 2019-01-02.\n",
       "</pre>\n"
      ],
      "text/plain": [
       "Loading Daily data for ^SKEW with starting period 2019-01-02.\n"
      ]
     },
     "metadata": {},
     "output_type": "display_data"
    },
    {
     "data": {
      "text/html": [
       "<pre style=\"white-space:pre;overflow-x:auto;line-height:normal;font-family:Menlo,'DejaVu Sans Mono',consolas,'Courier New',monospace\">Loading Daily data for ^SPX with starting period 2019-01-02.\n",
       "</pre>\n"
      ],
      "text/plain": [
       "Loading Daily data for ^SPX with starting period 2019-01-02.\n"
      ]
     },
     "metadata": {},
     "output_type": "display_data"
    },
    {
     "data": {
      "text/html": [
       "<div>\n",
       "<style scoped>\n",
       "    .dataframe tbody tr th:only-of-type {\n",
       "        vertical-align: middle;\n",
       "    }\n",
       "\n",
       "    .dataframe tbody tr th {\n",
       "        vertical-align: top;\n",
       "    }\n",
       "\n",
       "    .dataframe thead th {\n",
       "        text-align: right;\n",
       "    }\n",
       "</style>\n",
       "<table border=\"1\" class=\"dataframe\">\n",
       "  <thead>\n",
       "    <tr style=\"text-align: right;\">\n",
       "      <th></th>\n",
       "      <th>VIX_Open</th>\n",
       "      <th>VIX_High</th>\n",
       "      <th>VIX_Low</th>\n",
       "      <th>VIX_Close</th>\n",
       "    </tr>\n",
       "    <tr>\n",
       "      <th>date</th>\n",
       "      <th></th>\n",
       "      <th></th>\n",
       "      <th></th>\n",
       "      <th></th>\n",
       "    </tr>\n",
       "  </thead>\n",
       "  <tbody>\n",
       "    <tr>\n",
       "      <th>2024-09-12</th>\n",
       "      <td>17.620001</td>\n",
       "      <td>18.59</td>\n",
       "      <td>16.889999</td>\n",
       "      <td>17.070000</td>\n",
       "    </tr>\n",
       "    <tr>\n",
       "      <th>2024-09-13</th>\n",
       "      <td>17.030001</td>\n",
       "      <td>17.18</td>\n",
       "      <td>16.230000</td>\n",
       "      <td>16.700001</td>\n",
       "    </tr>\n",
       "  </tbody>\n",
       "</table>\n",
       "</div>"
      ],
      "text/plain": [
       "             VIX_Open  VIX_High    VIX_Low  VIX_Close\n",
       "date                                                 \n",
       "2024-09-12  17.620001     18.59  16.889999  17.070000\n",
       "2024-09-13  17.030001     17.18  16.230000  16.700001"
      ]
     },
     "execution_count": 3,
     "metadata": {},
     "output_type": "execute_result"
    }
   ],
   "source": [
    "import modules.indices as idxs\n",
    "\n",
    "indices = idxs.Indices()\n",
    "indices.get_indices()\n"
   ]
  },
  {
   "cell_type": "code",
   "execution_count": 4,
   "metadata": {},
   "outputs": [
    {
     "data": {
      "text/html": [
       "<div>\n",
       "<style scoped>\n",
       "    .dataframe tbody tr th:only-of-type {\n",
       "        vertical-align: middle;\n",
       "    }\n",
       "\n",
       "    .dataframe tbody tr th {\n",
       "        vertical-align: top;\n",
       "    }\n",
       "\n",
       "    .dataframe thead th {\n",
       "        text-align: right;\n",
       "    }\n",
       "</style>\n",
       "<table border=\"1\" class=\"dataframe\">\n",
       "  <thead>\n",
       "    <tr style=\"text-align: right;\">\n",
       "      <th></th>\n",
       "      <th>Date</th>\n",
       "      <th>1m</th>\n",
       "      <th>3m</th>\n",
       "      <th>6m</th>\n",
       "      <th>1y</th>\n",
       "      <th>2y</th>\n",
       "      <th>3y</th>\n",
       "      <th>5y</th>\n",
       "      <th>7y</th>\n",
       "      <th>10y</th>\n",
       "      <th>20y</th>\n",
       "      <th>30y</th>\n",
       "    </tr>\n",
       "  </thead>\n",
       "  <tbody>\n",
       "    <tr>\n",
       "      <th>0</th>\n",
       "      <td>2024-09-12</td>\n",
       "      <td>5.18</td>\n",
       "      <td>5.06</td>\n",
       "      <td>4.68</td>\n",
       "      <td>4.09</td>\n",
       "      <td>3.64</td>\n",
       "      <td>3.47</td>\n",
       "      <td>3.47</td>\n",
       "      <td>3.57</td>\n",
       "      <td>3.68</td>\n",
       "      <td>4.07</td>\n",
       "      <td>4.0</td>\n",
       "    </tr>\n",
       "    <tr>\n",
       "      <th>1</th>\n",
       "      <td>2024-09-11</td>\n",
       "      <td>5.21</td>\n",
       "      <td>5.1</td>\n",
       "      <td>4.72</td>\n",
       "      <td>4.12</td>\n",
       "      <td>3.62</td>\n",
       "      <td>3.45</td>\n",
       "      <td>3.45</td>\n",
       "      <td>3.54</td>\n",
       "      <td>3.65</td>\n",
       "      <td>4.03</td>\n",
       "      <td>3.96</td>\n",
       "    </tr>\n",
       "    <tr>\n",
       "      <th>2</th>\n",
       "      <td>2024-09-10</td>\n",
       "      <td>5.18</td>\n",
       "      <td>5.06</td>\n",
       "      <td>4.65</td>\n",
       "      <td>4.07</td>\n",
       "      <td>3.59</td>\n",
       "      <td>3.42</td>\n",
       "      <td>3.43</td>\n",
       "      <td>3.53</td>\n",
       "      <td>3.65</td>\n",
       "      <td>4.04</td>\n",
       "      <td>3.97</td>\n",
       "    </tr>\n",
       "    <tr>\n",
       "      <th>3</th>\n",
       "      <td>2024-09-09</td>\n",
       "      <td>5.25</td>\n",
       "      <td>5.11</td>\n",
       "      <td>4.68</td>\n",
       "      <td>4.12</td>\n",
       "      <td>3.68</td>\n",
       "      <td>3.54</td>\n",
       "      <td>3.49</td>\n",
       "      <td>3.58</td>\n",
       "      <td>3.7</td>\n",
       "      <td>4.08</td>\n",
       "      <td>4.0</td>\n",
       "    </tr>\n",
       "    <tr>\n",
       "      <th>4</th>\n",
       "      <td>2024-09-06</td>\n",
       "      <td>5.28</td>\n",
       "      <td>5.13</td>\n",
       "      <td>4.69</td>\n",
       "      <td>4.1</td>\n",
       "      <td>3.66</td>\n",
       "      <td>3.54</td>\n",
       "      <td>3.5</td>\n",
       "      <td>3.6</td>\n",
       "      <td>3.72</td>\n",
       "      <td>4.1</td>\n",
       "      <td>4.03</td>\n",
       "    </tr>\n",
       "    <tr>\n",
       "      <th>5</th>\n",
       "      <td>2024-09-05</td>\n",
       "      <td>5.3</td>\n",
       "      <td>5.15</td>\n",
       "      <td>4.73</td>\n",
       "      <td>4.21</td>\n",
       "      <td>3.75</td>\n",
       "      <td>3.61</td>\n",
       "      <td>3.54</td>\n",
       "      <td>3.63</td>\n",
       "      <td>3.73</td>\n",
       "      <td>4.11</td>\n",
       "      <td>4.02</td>\n",
       "    </tr>\n",
       "    <tr>\n",
       "      <th>6</th>\n",
       "      <td>2024-09-04</td>\n",
       "      <td>5.33</td>\n",
       "      <td>5.18</td>\n",
       "      <td>4.74</td>\n",
       "      <td>4.23</td>\n",
       "      <td>3.76</td>\n",
       "      <td>3.63</td>\n",
       "      <td>3.56</td>\n",
       "      <td>3.65</td>\n",
       "      <td>3.77</td>\n",
       "      <td>4.14</td>\n",
       "      <td>4.06</td>\n",
       "    </tr>\n",
       "    <tr>\n",
       "      <th>7</th>\n",
       "      <td>2024-09-03</td>\n",
       "      <td>5.38</td>\n",
       "      <td>5.19</td>\n",
       "      <td>4.8</td>\n",
       "      <td>4.35</td>\n",
       "      <td>3.88</td>\n",
       "      <td>3.73</td>\n",
       "      <td>3.65</td>\n",
       "      <td>3.73</td>\n",
       "      <td>3.84</td>\n",
       "      <td>4.21</td>\n",
       "      <td>4.13</td>\n",
       "    </tr>\n",
       "    <tr>\n",
       "      <th>8</th>\n",
       "      <td>2024-08-30</td>\n",
       "      <td>5.41</td>\n",
       "      <td>5.21</td>\n",
       "      <td>4.89</td>\n",
       "      <td>4.38</td>\n",
       "      <td>3.91</td>\n",
       "      <td>3.79</td>\n",
       "      <td>3.71</td>\n",
       "      <td>3.8</td>\n",
       "      <td>3.91</td>\n",
       "      <td>4.28</td>\n",
       "      <td>4.2</td>\n",
       "    </tr>\n",
       "    <tr>\n",
       "      <th>9</th>\n",
       "      <td>2024-08-29</td>\n",
       "      <td>5.4</td>\n",
       "      <td>5.22</td>\n",
       "      <td>4.89</td>\n",
       "      <td>4.38</td>\n",
       "      <td>3.87</td>\n",
       "      <td>3.76</td>\n",
       "      <td>3.66</td>\n",
       "      <td>3.76</td>\n",
       "      <td>3.87</td>\n",
       "      <td>4.24</td>\n",
       "      <td>4.15</td>\n",
       "    </tr>\n",
       "  </tbody>\n",
       "</table>\n",
       "</div>"
      ],
      "text/plain": [
       "        Date    1m    3m    6m    1y    2y    3y    5y    7y   10y   20y   30y\n",
       "0 2024-09-12  5.18  5.06  4.68  4.09  3.64  3.47  3.47  3.57  3.68  4.07   4.0\n",
       "1 2024-09-11  5.21   5.1  4.72  4.12  3.62  3.45  3.45  3.54  3.65  4.03  3.96\n",
       "2 2024-09-10  5.18  5.06  4.65  4.07  3.59  3.42  3.43  3.53  3.65  4.04  3.97\n",
       "3 2024-09-09  5.25  5.11  4.68  4.12  3.68  3.54  3.49  3.58   3.7  4.08   4.0\n",
       "4 2024-09-06  5.28  5.13  4.69   4.1  3.66  3.54   3.5   3.6  3.72   4.1  4.03\n",
       "5 2024-09-05   5.3  5.15  4.73  4.21  3.75  3.61  3.54  3.63  3.73  4.11  4.02\n",
       "6 2024-09-04  5.33  5.18  4.74  4.23  3.76  3.63  3.56  3.65  3.77  4.14  4.06\n",
       "7 2024-09-03  5.38  5.19   4.8  4.35  3.88  3.73  3.65  3.73  3.84  4.21  4.13\n",
       "8 2024-08-30  5.41  5.21  4.89  4.38  3.91  3.79  3.71   3.8  3.91  4.28   4.2\n",
       "9 2024-08-29   5.4  5.22  4.89  4.38  3.87  3.76  3.66  3.76  3.87  4.24  4.15"
      ]
     },
     "execution_count": 4,
     "metadata": {},
     "output_type": "execute_result"
    }
   ],
   "source": [
    "import modules.interest_rates as ir\n",
    "\n",
    "rates = ir.Rates()\n",
    "yield_curve = rates.update_yc()\n",
    "rates.get_yc_deltas(yield_curve)\n",
    "yield_curve.head(10)"
   ]
  }
 ],
 "metadata": {
  "kernelspec": {
   "display_name": "obb",
   "language": "python",
   "name": "python3"
  },
  "language_info": {
   "codemirror_mode": {
    "name": "ipython",
    "version": 3
   },
   "file_extension": ".py",
   "mimetype": "text/x-python",
   "name": "python",
   "nbconvert_exporter": "python",
   "pygments_lexer": "ipython3",
   "version": "3.9.13"
  }
 },
 "nbformat": 4,
 "nbformat_minor": 2
}
